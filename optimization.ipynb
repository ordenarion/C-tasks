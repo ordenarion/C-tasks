{
  "nbformat": 4,
  "nbformat_minor": 0,
  "metadata": {
    "colab": {
      "name": "optimization.ipynb",
      "provenance": [],
      "authorship_tag": "ABX9TyPS1ADs8ZhC+t7egnVLjYoj"
    },
    "kernelspec": {
      "name": "python3",
      "display_name": "Python 3"
    },
    "language_info": {
      "name": "python"
    }
  },
  "cells": [
    {
      "cell_type": "markdown",
      "source": [
        "# **Проект по оптимизации основных методов связанных со списками с использованием библиотек Cython, NumPy**\n",
        "\n",
        "\n",
        "\n"
      ],
      "metadata": {
        "id": "_ZXm65EnLqKl"
      }
    },
    {
      "cell_type": "markdown",
      "source": [
        "#####Студенты: Кирюхова Ульяна Вячеславовна, Иксанов Марат Васильевич. Группа: ПМ-2001\n",
        "---"
      ],
      "metadata": {
        "id": "8WhzDxqeMDC_"
      }
    },
    {
      "cell_type": "markdown",
      "source": [
        "###**Установка необходимых вспомогательных модулей**"
      ],
      "metadata": {
        "id": "gNvKbr47Mo6O"
      }
    },
    {
      "cell_type": "markdown",
      "source": [
        "---"
      ],
      "metadata": {
        "id": "_MtxmM6qkm7j"
      }
    },
    {
      "cell_type": "code",
      "source": [
        "!pip install Cython\n",
        "\n",
        "%load_ext cython\n",
        "\n",
        "from random import random \n",
        "import numpy as np\n",
        "import Cython\n",
        "from time import time\n",
        "from functools import reduce"
      ],
      "metadata": {
        "id": "4V4PZJG6Llv8"
      },
      "execution_count": null,
      "outputs": []
    },
    {
      "cell_type": "markdown",
      "source": [
        "---"
      ],
      "metadata": {
        "id": "WSRoCGp2knfJ"
      }
    },
    {
      "cell_type": "markdown",
      "source": [
        "### **Сортировка списка методов простых вставок на чистом Python и при использовании библиотеки Cython**"
      ],
      "metadata": {
        "id": "pETv6pvOM8ed"
      }
    },
    {
      "cell_type": "markdown",
      "source": [
        "---"
      ],
      "metadata": {
        "id": "Afrh9_XekmQx"
      }
    },
    {
      "cell_type": "markdown",
      "source": [
        "#####Функция подсчета времени"
      ],
      "metadata": {
        "id": "mCAyCkqkNOcv"
      }
    },
    {
      "cell_type": "code",
      "source": [
        "def get_time(p,c = False,nump = False):\n",
        "  a = time()\n",
        "  p\n",
        "  b = time()\n",
        "  print(f\"Pure Python time:{b-a}\\n\")\n",
        "  if c != False:\n",
        "    a = time()\n",
        "    c\n",
        "    b = time()\n",
        "    print(f\"Cython time:{b-a}\\n\")\n",
        "  if nump != False:\n",
        "    a = time()\n",
        "    nump\n",
        "    b = time()\n",
        "    print(f\"Numpy time:{b-a}\\n\")\n",
        "    "
      ],
      "metadata": {
        "id": "iIELldrlNaw7"
      },
      "execution_count": 102,
      "outputs": []
    },
    {
      "cell_type": "markdown",
      "source": [
        "Генерация случайных данных"
      ],
      "metadata": {
        "id": "FMccyxpDOosZ"
      }
    },
    {
      "cell_type": "code",
      "source": [
        "def generate(n = 1,m = 1 ,nump = False):\n",
        "  lst = [[random() for _ in range(m)] for _ in range(n)]\n",
        "  if n == 1:\n",
        "    lst = lst[0]\n",
        "  if nump: return np.array(lst)\n",
        "  else: return lst"
      ],
      "metadata": {
        "id": "pkDbI5w6OvRI"
      },
      "execution_count": 19,
      "outputs": []
    },
    {
      "cell_type": "markdown",
      "source": [
        "Сортировка выбором"
      ],
      "metadata": {
        "id": "ehcU2iS4Q4uD"
      }
    },
    {
      "cell_type": "code",
      "source": [
        "def pure_python_selectionSort(array):\n",
        "    arr = [i for i in array]\n",
        "    for i in range(1, len(arr)):\n",
        "        key = arr[i]\n",
        "        j = i-1\n",
        "        while j >=0 and key < arr[j] :\n",
        "            arr[j+1] = arr[j]\n",
        "            j -= 1\n",
        "        arr[j+1] = key "
      ],
      "metadata": {
        "id": "9iDCvPzTQpp5"
      },
      "execution_count": 40,
      "outputs": []
    },
    {
      "cell_type": "code",
      "source": [
        "%%cython\n",
        "\n",
        "def findMinIndex(array, strt):  \n",
        "    cdef int min_index = strt  \n",
        "    cdef int start = strt + 1\n",
        "  \n",
        "    while start < len(array):  \n",
        "        if array[start] < array[min_index]:  \n",
        "            min_index = start  \n",
        "  \n",
        "        start += 1  \n",
        "  \n",
        "    return min_index  \n",
        "  \n",
        "def cython_selectionSort(array):\n",
        "    arr = [i for i in array]\n",
        "    cdef int i = 0  \n",
        "  \n",
        "    while i < len(array):  \n",
        "        min_index = findMinIndex(array, i)  \n",
        "  \n",
        "        if i != min_index:  \n",
        "            array[i], array[min_index] = array[min_index], array[i]  \n",
        "          \n",
        "        i += 1  "
      ],
      "metadata": {
        "id": "57yqCXeoRsnU"
      },
      "execution_count": 41,
      "outputs": []
    },
    {
      "cell_type": "markdown",
      "source": [
        "Сравнение скорости работы на различных данных"
      ],
      "metadata": {
        "id": "M8vZiwSGRmUP"
      }
    },
    {
      "cell_type": "code",
      "source": [
        "step = [i for i in range(0,5000+1,1000)]\n",
        "for i in range(1,4):\n",
        "  print(f\"\\n\\nTest:{i}\")\n",
        "  for n in step:\n",
        "    print(f\"\\nArray length = {n}\\n\")\n",
        "    ar = generate(1,n)\n",
        "    get_time(pure_python_selectionSort(ar),cython_selectionSort(ar))"
      ],
      "metadata": {
        "colab": {
          "base_uri": "https://localhost:8080/"
        },
        "id": "LHbq79QSRhiB",
        "outputId": "68d84384-d477-4394-f645-e73d6ce2909a"
      },
      "execution_count": 119,
      "outputs": [
        {
          "output_type": "stream",
          "name": "stdout",
          "text": [
            "\n",
            "\n",
            "Test:1\n",
            "\n",
            "Array length = 0\n",
            "\n",
            "Pure Python time:4.76837158203125e-07\n",
            "\n",
            "Cython time:2.384185791015625e-07\n",
            "\n",
            "\n",
            "Array length = 1000\n",
            "\n",
            "Pure Python time:7.152557373046875e-07\n",
            "\n",
            "Cython time:7.152557373046875e-07\n",
            "\n",
            "\n",
            "Array length = 2000\n",
            "\n",
            "Pure Python time:9.5367431640625e-07\n",
            "\n",
            "Cython time:2.384185791015625e-07\n",
            "\n",
            "\n",
            "Array length = 3000\n",
            "\n",
            "Pure Python time:7.152557373046875e-07\n",
            "\n",
            "Cython time:4.76837158203125e-07\n",
            "\n",
            "\n",
            "Array length = 4000\n",
            "\n",
            "Pure Python time:2.384185791015625e-07\n",
            "\n",
            "Cython time:2.384185791015625e-07\n",
            "\n",
            "\n",
            "Array length = 5000\n",
            "\n",
            "Pure Python time:9.5367431640625e-07\n",
            "\n",
            "Cython time:4.76837158203125e-07\n",
            "\n",
            "\n",
            "\n",
            "Test:2\n",
            "\n",
            "Array length = 0\n",
            "\n",
            "Pure Python time:2.384185791015625e-07\n",
            "\n",
            "Cython time:2.384185791015625e-07\n",
            "\n",
            "\n",
            "Array length = 1000\n",
            "\n",
            "Pure Python time:7.152557373046875e-07\n",
            "\n",
            "Cython time:2.384185791015625e-07\n",
            "\n",
            "\n",
            "Array length = 2000\n",
            "\n",
            "Pure Python time:2.384185791015625e-07\n",
            "\n",
            "Cython time:2.384185791015625e-07\n",
            "\n",
            "\n",
            "Array length = 3000\n",
            "\n",
            "Pure Python time:2.384185791015625e-07\n",
            "\n",
            "Cython time:4.76837158203125e-07\n",
            "\n",
            "\n",
            "Array length = 4000\n",
            "\n",
            "Pure Python time:7.152557373046875e-07\n",
            "\n",
            "Cython time:4.76837158203125e-07\n",
            "\n",
            "\n",
            "Array length = 5000\n",
            "\n",
            "Pure Python time:7.152557373046875e-07\n",
            "\n",
            "Cython time:4.76837158203125e-07\n",
            "\n",
            "\n",
            "\n",
            "Test:3\n",
            "\n",
            "Array length = 0\n",
            "\n",
            "Pure Python time:2.384185791015625e-07\n",
            "\n",
            "Cython time:2.384185791015625e-07\n",
            "\n",
            "\n",
            "Array length = 1000\n",
            "\n",
            "Pure Python time:4.76837158203125e-07\n",
            "\n",
            "Cython time:7.152557373046875e-07\n",
            "\n",
            "\n",
            "Array length = 2000\n",
            "\n",
            "Pure Python time:1.1920928955078125e-06\n",
            "\n",
            "Cython time:4.76837158203125e-07\n",
            "\n",
            "\n",
            "Array length = 3000\n",
            "\n",
            "Pure Python time:7.152557373046875e-07\n",
            "\n",
            "Cython time:4.76837158203125e-07\n",
            "\n",
            "\n",
            "Array length = 4000\n",
            "\n",
            "Pure Python time:4.76837158203125e-07\n",
            "\n",
            "Cython time:2.384185791015625e-07\n",
            "\n",
            "\n",
            "Array length = 5000\n",
            "\n",
            "Pure Python time:2.384185791015625e-07\n",
            "\n",
            "Cython time:2.384185791015625e-07\n",
            "\n"
          ]
        }
      ]
    },
    {
      "cell_type": "markdown",
      "source": [
        "*На данном примере можно видеть, что с ростом количества случайных чисел в списке, функция на чистом Python довольно-таки сильно уступает функции написанной при помощи Cython*.\n",
        "\n",
        "*Однако, все равно будут существовать частные случаи, когда случайно полученные величины взаиморасполагаются между собой более выгодно для чистого Python, нежели Cython. Таких случаев мало, поэтому будем считать, что Cython побеждает в большинстве случаев*"
      ],
      "metadata": {
        "id": "CR3M_HPEVDTP"
      }
    },
    {
      "cell_type": "markdown",
      "source": [
        "---"
      ],
      "metadata": {
        "id": "Wpf5Trrfkjv9"
      }
    },
    {
      "cell_type": "markdown",
      "source": [
        "### **Вычисление опредлеителя матрицы MxM на чистом Python или при помощи Cython или Numpy**"
      ],
      "metadata": {
        "id": "qaMOoQchWMLl"
      }
    },
    {
      "cell_type": "markdown",
      "source": [
        "---"
      ],
      "metadata": {
        "id": "-uj2En0_kZn-"
      }
    },
    {
      "cell_type": "code",
      "source": [
        "def pure_python_determinant(arr,mul):\n",
        "    width = len(arr)\n",
        "    if width == 1:\n",
        "        return mul * arr[0][0]\n",
        "    else:\n",
        "        sign = -1\n",
        "        answer = 0\n",
        "        for i in range(width):\n",
        "            m = []\n",
        "            for j in range(1, width):\n",
        "                buff = []\n",
        "                for k in range(width):\n",
        "                    if k != i:\n",
        "                        buff.append(arr[j][k])\n",
        "                m.append(buff)\n",
        "            sign *= -1\n",
        "            answer = answer + mul * pure_python_determinant(m, sign * arr[0][i])\n",
        "    return answer"
      ],
      "metadata": {
        "id": "8BKUVyrhW6S8"
      },
      "execution_count": 74,
      "outputs": []
    },
    {
      "cell_type": "code",
      "source": [
        "%%cython\n",
        "\n",
        "def cython_determinant(arr,mul):\n",
        "    cdef int width = len(arr)\n",
        "    cdef float sign\n",
        "    cdef float answer\n",
        "    if width == 1:\n",
        "        return mul * arr[0][0]\n",
        "    else:\n",
        "        sign = -1\n",
        "        answer = 0\n",
        "        for i in range(width):\n",
        "            m = []\n",
        "            for j in range(1, width):\n",
        "                buff = []\n",
        "                for k in range(width):\n",
        "                    if k != i:\n",
        "                        buff.append(arr[j][k])\n",
        "                m.append(buff)\n",
        "            sign *= -1\n",
        "            answer = answer + mul * cython_determinant(m, sign * arr[0][i])\n",
        "    return answer"
      ],
      "metadata": {
        "id": "fWsXnzrWZGeM"
      },
      "execution_count": 97,
      "outputs": []
    },
    {
      "cell_type": "code",
      "source": [
        "def numpy_determinant(arr):\n",
        "  np.linalg.det(arr)"
      ],
      "metadata": {
        "id": "FczSTVRGZswW"
      },
      "execution_count": 82,
      "outputs": []
    },
    {
      "cell_type": "markdown",
      "source": [
        "Сравнение скорости работы на различных данных"
      ],
      "metadata": {
        "id": "HBPm37NmZray"
      }
    },
    {
      "cell_type": "code",
      "source": [
        "step = [i for i in range(2,11,2)]\n",
        "for i in range(1,4):\n",
        "  print(f\"\\n\\nTest:{i}\")\n",
        "  for n in step:\n",
        "    print(f\"\\nMatrix NxN = {n}x{n}\\n\")\n",
        "    ar = generate(n,n)\n",
        "    get_time(pure_python_determinant(ar,1),cython_determinant(ar,1.0),numpy_determinant(ar))"
      ],
      "metadata": {
        "colab": {
          "base_uri": "https://localhost:8080/"
        },
        "id": "W585FJpJWano",
        "outputId": "898c1ff0-d642-4331-a5f9-766edfbff203"
      },
      "execution_count": 112,
      "outputs": [
        {
          "output_type": "stream",
          "name": "stdout",
          "text": [
            "\n",
            "\n",
            "Test:1\n",
            "\n",
            "Matrix NxN = 2x2\n",
            "\n",
            "Pure Python time:7.152557373046875e-07\n",
            "\n",
            "Cython time:4.76837158203125e-07\n",
            "\n",
            "Numpy time:2.384185791015625e-07\n",
            "\n",
            "\n",
            "Matrix NxN = 4x4\n",
            "\n",
            "Pure Python time:4.76837158203125e-07\n",
            "\n",
            "Cython time:2.384185791015625e-07\n",
            "\n",
            "Numpy time:2.384185791015625e-07\n",
            "\n",
            "\n",
            "Matrix NxN = 6x6\n",
            "\n",
            "Pure Python time:2.384185791015625e-07\n",
            "\n",
            "Cython time:2.384185791015625e-07\n",
            "\n",
            "Numpy time:0.0\n",
            "\n",
            "\n",
            "Matrix NxN = 8x8\n",
            "\n",
            "Pure Python time:7.152557373046875e-07\n",
            "\n",
            "Cython time:2.384185791015625e-07\n",
            "\n",
            "Numpy time:2.384185791015625e-07\n",
            "\n",
            "\n",
            "Matrix NxN = 10x10\n",
            "\n",
            "Pure Python time:7.152557373046875e-07\n",
            "\n",
            "Cython time:2.384185791015625e-07\n",
            "\n",
            "Numpy time:2.384185791015625e-07\n",
            "\n",
            "\n",
            "\n",
            "Test:2\n",
            "\n",
            "Matrix NxN = 2x2\n",
            "\n",
            "Pure Python time:2.384185791015625e-07\n",
            "\n",
            "Cython time:4.76837158203125e-07\n",
            "\n",
            "Numpy time:2.384185791015625e-07\n",
            "\n",
            "\n",
            "Matrix NxN = 4x4\n",
            "\n",
            "Pure Python time:4.76837158203125e-07\n",
            "\n",
            "Cython time:4.76837158203125e-07\n",
            "\n",
            "Numpy time:2.384185791015625e-07\n",
            "\n",
            "\n",
            "Matrix NxN = 6x6\n",
            "\n",
            "Pure Python time:2.384185791015625e-07\n",
            "\n",
            "Cython time:2.384185791015625e-07\n",
            "\n",
            "Numpy time:2.384185791015625e-07\n",
            "\n",
            "\n",
            "Matrix NxN = 8x8\n",
            "\n",
            "Pure Python time:9.5367431640625e-07\n",
            "\n",
            "Cython time:2.384185791015625e-07\n",
            "\n",
            "Numpy time:2.384185791015625e-07\n",
            "\n",
            "\n",
            "Matrix NxN = 10x10\n",
            "\n",
            "Pure Python time:4.76837158203125e-07\n",
            "\n",
            "Cython time:2.384185791015625e-07\n",
            "\n",
            "Numpy time:4.76837158203125e-07\n",
            "\n",
            "\n",
            "\n",
            "Test:3\n",
            "\n",
            "Matrix NxN = 2x2\n",
            "\n",
            "Pure Python time:2.384185791015625e-07\n",
            "\n",
            "Cython time:2.384185791015625e-07\n",
            "\n",
            "Numpy time:2.384185791015625e-07\n",
            "\n",
            "\n",
            "Matrix NxN = 4x4\n",
            "\n",
            "Pure Python time:2.384185791015625e-07\n",
            "\n",
            "Cython time:2.384185791015625e-07\n",
            "\n",
            "Numpy time:2.384185791015625e-07\n",
            "\n",
            "\n",
            "Matrix NxN = 6x6\n",
            "\n",
            "Pure Python time:2.384185791015625e-07\n",
            "\n",
            "Cython time:2.384185791015625e-07\n",
            "\n",
            "Numpy time:4.76837158203125e-07\n",
            "\n",
            "\n",
            "Matrix NxN = 8x8\n",
            "\n",
            "Pure Python time:7.152557373046875e-07\n",
            "\n",
            "Cython time:2.384185791015625e-07\n",
            "\n",
            "Numpy time:4.76837158203125e-07\n",
            "\n",
            "\n",
            "Matrix NxN = 10x10\n",
            "\n",
            "Pure Python time:4.76837158203125e-07\n",
            "\n",
            "Cython time:2.384185791015625e-07\n",
            "\n",
            "Numpy time:2.384185791015625e-07\n",
            "\n"
          ]
        }
      ]
    },
    {
      "cell_type": "markdown",
      "source": [
        "*Наилучшим образом себя показала функция, написанная при помощи Numpy, после чего идет функция, написанная при помощи Cython, после чего функция на чистом Python*\n",
        "\n",
        "\n",
        "*На данном примере можно видеть, что с ростом размерности квадратной матрицы составленной из случайных чисел функция на чистом Python довольно-таки сильно уступает остальным двум функциям практически во всех случаях*.\n",
        "\n",
        "\n",
        "*Однако, все равно будут существовать частные случаи, когда случайно полученные матрицы будут посчитаны намного быстрее с помощью Cython, а иногда даже с помошью чистого Python, где функция, написанная с помощью NumPy может вовсе уступать прошлым двум*\n",
        "\n",
        "*Поэтому можно считать, что победителем в данном случае является функция, написанная с помощью NumPy, после чего идет Cython и Python*"
      ],
      "metadata": {
        "id": "MfNPDjRzk7Fn"
      }
    },
    {
      "cell_type": "markdown",
      "source": [
        "\n",
        "---\n"
      ],
      "metadata": {
        "id": "nQBQPyHukOO4"
      }
    },
    {
      "cell_type": "markdown",
      "source": [
        "### **Перемножение двух матриц NxN на чистом Python или при помощи Cython или Numpy**"
      ],
      "metadata": {
        "id": "lwsiNOpwfvKW"
      }
    },
    {
      "cell_type": "markdown",
      "source": [
        "---"
      ],
      "metadata": {
        "id": "n6sEBNxlkdWD"
      }
    },
    {
      "cell_type": "code",
      "source": [
        "def pure_python_matrixmult(m1, m2):\n",
        "    n = len(m1)\n",
        "    C = [[0 for row in range(n)] for col in range(n)]\n",
        "\n",
        "    for i in range(n):\n",
        "        for j in range(n):\n",
        "            for k in range(n):\n",
        "                C[i][j] += m1[i][k] * m2[k][j]"
      ],
      "metadata": {
        "id": "su_v4E6mgcVC"
      },
      "execution_count": 125,
      "outputs": []
    },
    {
      "cell_type": "code",
      "source": [
        "%%cython\n",
        "\n",
        "def cython_matrixmult(m1, m2):\n",
        "    cdef int n = len(m1)\n",
        "    C = [[0 for row in range(n)] for col in range(n)]\n",
        "\n",
        "    for i in range(n):\n",
        "        for j in range(n):\n",
        "            for k in range(n):\n",
        "                C[i][j] += m1[i][k] * m2[k][j]"
      ],
      "metadata": {
        "id": "ifkIz5Hog6Xo"
      },
      "execution_count": 120,
      "outputs": []
    },
    {
      "cell_type": "code",
      "source": [
        "def numpy_matrixmult(m1, m2):\n",
        "  np.dot(m1, m2)"
      ],
      "metadata": {
        "id": "aTx1hTlQhL_7"
      },
      "execution_count": 121,
      "outputs": []
    },
    {
      "cell_type": "markdown",
      "source": [
        "Сравнение скорости работы на различных данных"
      ],
      "metadata": {
        "id": "r9anS_yXkM-B"
      }
    },
    {
      "cell_type": "code",
      "source": [
        "step = [i for i in range(100,401,100)]\n",
        "for i in range(1,4):\n",
        "  print(f\"\\n\\nTest:{i}\")\n",
        "  for n in step:\n",
        "    print(f\"\\nMatrix NxN = {n}x{n}\\n\")\n",
        "    ar1 = generate(n,n)\n",
        "    ar2 = generate(n,n)\n",
        "    get_time(pure_python_matrixmult(ar1,ar2),cython_matrixmult(ar1,ar2),numpy_matrixmult(ar1,ar2))"
      ],
      "metadata": {
        "colab": {
          "base_uri": "https://localhost:8080/"
        },
        "id": "paQ8JsMnjjAx",
        "outputId": "26a788f4-27ec-4c09-9e7c-b07dd3d7dcc5"
      },
      "execution_count": 131,
      "outputs": [
        {
          "output_type": "stream",
          "name": "stdout",
          "text": [
            "\n",
            "\n",
            "Test:1\n",
            "\n",
            "Matrix NxN = 100x100\n",
            "\n",
            "Pure Python time:9.5367431640625e-07\n",
            "\n",
            "Cython time:4.76837158203125e-07\n",
            "\n",
            "Numpy time:2.384185791015625e-07\n",
            "\n",
            "\n",
            "Matrix NxN = 200x200\n",
            "\n",
            "Pure Python time:4.76837158203125e-07\n",
            "\n",
            "Cython time:4.76837158203125e-07\n",
            "\n",
            "Numpy time:2.384185791015625e-07\n",
            "\n",
            "\n",
            "Matrix NxN = 300x300\n",
            "\n",
            "Pure Python time:7.152557373046875e-07\n",
            "\n",
            "Cython time:2.384185791015625e-07\n",
            "\n",
            "Numpy time:2.384185791015625e-07\n",
            "\n",
            "\n",
            "Matrix NxN = 400x400\n",
            "\n",
            "Pure Python time:7.152557373046875e-07\n",
            "\n",
            "Cython time:2.384185791015625e-07\n",
            "\n",
            "Numpy time:2.384185791015625e-07\n",
            "\n",
            "\n",
            "\n",
            "Test:2\n",
            "\n",
            "Matrix NxN = 100x100\n",
            "\n",
            "Pure Python time:7.152557373046875e-07\n",
            "\n",
            "Cython time:2.384185791015625e-07\n",
            "\n",
            "Numpy time:2.384185791015625e-07\n",
            "\n",
            "\n",
            "Matrix NxN = 200x200\n",
            "\n",
            "Pure Python time:9.5367431640625e-07\n",
            "\n",
            "Cython time:2.384185791015625e-07\n",
            "\n",
            "Numpy time:2.384185791015625e-07\n",
            "\n",
            "\n",
            "Matrix NxN = 300x300\n",
            "\n",
            "Pure Python time:1.430511474609375e-06\n",
            "\n",
            "Cython time:2.384185791015625e-07\n",
            "\n",
            "Numpy time:2.384185791015625e-07\n",
            "\n",
            "\n",
            "Matrix NxN = 400x400\n",
            "\n",
            "Pure Python time:4.76837158203125e-07\n",
            "\n",
            "Cython time:2.384185791015625e-07\n",
            "\n",
            "Numpy time:2.384185791015625e-07\n",
            "\n",
            "\n",
            "\n",
            "Test:3\n",
            "\n",
            "Matrix NxN = 100x100\n",
            "\n",
            "Pure Python time:9.5367431640625e-07\n",
            "\n",
            "Cython time:4.76837158203125e-07\n",
            "\n",
            "Numpy time:2.384185791015625e-07\n",
            "\n",
            "\n",
            "Matrix NxN = 200x200\n",
            "\n",
            "Pure Python time:4.76837158203125e-07\n",
            "\n",
            "Cython time:4.76837158203125e-07\n",
            "\n",
            "Numpy time:4.76837158203125e-07\n",
            "\n",
            "\n",
            "Matrix NxN = 300x300\n",
            "\n",
            "Pure Python time:7.152557373046875e-07\n",
            "\n",
            "Cython time:2.384185791015625e-07\n",
            "\n",
            "Numpy time:2.384185791015625e-07\n",
            "\n",
            "\n",
            "Matrix NxN = 400x400\n",
            "\n",
            "Pure Python time:1.9073486328125e-06\n",
            "\n",
            "Cython time:2.384185791015625e-07\n",
            "\n",
            "Numpy time:2.384185791015625e-07\n",
            "\n"
          ]
        }
      ]
    },
    {
      "cell_type": "markdown",
      "source": [
        "---"
      ],
      "metadata": {
        "id": "jJfZncsUkfSx"
      }
    },
    {
      "cell_type": "markdown",
      "source": [
        "*Наилучшим образом себя показала функция, написанная при помощи Numpy, после чего идет функция, написанная при помощи Cython, после чего функция на чистом Python*\n",
        "\n",
        "\n",
        "*На данном примере можно видеть, что с ростом размерности квадратной матрицы составленной из случайных чисел функция на чистом Python довольно-таки сильно уступает остальным двум функциям практически во всех случаях*.\n",
        "\n",
        "\n",
        "*Однако, все равно будут существовать частные случаи, когда случайно полученные матрицы будут посчитаны намного быстрее с помощью Cython, а иногда даже с помошью чистого Python, где функция, написанная с помощью NumPy может вовсе уступать прошлым двум*\n",
        "\n",
        "*Поэтому можно считать, что победителем в данном случае является функция, написанная с помощью NumPy, после чего идет Cython и Python*"
      ],
      "metadata": {
        "id": "R5nuzbnHkyPT"
      }
    },
    {
      "cell_type": "markdown",
      "source": [
        "# **Заключение**\n",
        "\n",
        "\n",
        "\n"
      ],
      "metadata": {
        "id": "aMymn5N_lCOA"
      }
    },
    {
      "cell_type": "markdown",
      "source": [
        "*Полученные результаты были ожидаемы: NumPy, Cython показали себя намного лучше чисто Python. Существовали входные данные, которые влияли на время вычисления различных функций, однако можно сказать, что в большинстве случаях NumPy побеждает оба остальных случая. Однако стоит всегда для каждого алгоритма думать об оптимизации индивидуально: для разных задач могут быть полезнее разные оптимизационные методы*"
      ],
      "metadata": {
        "id": "Q1UpCGkBlHAH"
      }
    },
    {
      "cell_type": "code",
      "source": [
        ""
      ],
      "metadata": {
        "id": "ZCAYlRISlGyA"
      },
      "execution_count": null,
      "outputs": []
    }
  ]
}